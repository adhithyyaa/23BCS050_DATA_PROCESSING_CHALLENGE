{
  "nbformat": 4,
  "nbformat_minor": 0,
  "metadata": {
    "colab": {
      "provenance": [],
      "authorship_tag": "ABX9TyOD2aJ7MopE2sf8eBdtWMwv",
      "include_colab_link": true
    },
    "kernelspec": {
      "name": "python3",
      "display_name": "Python 3"
    },
    "language_info": {
      "name": "python"
    }
  },
  "cells": [
    {
      "cell_type": "markdown",
      "metadata": {
        "id": "view-in-github",
        "colab_type": "text"
      },
      "source": [
        "<a href=\"https://colab.research.google.com/github/adhithyyaa/23BCS050_DATA_PROCESSING_CHALLENGE/blob/main/23BCS050_DATA_PROCESSING_CHALLENGE_.ipynb\" target=\"_parent\"><img src=\"https://colab.research.google.com/assets/colab-badge.svg\" alt=\"Open In Colab\"/></a>"
      ]
    },
    {
      "cell_type": "code",
      "execution_count": null,
      "metadata": {
        "colab": {
          "base_uri": "https://localhost:8080/"
        },
        "id": "ptIk_2yElbGa",
        "outputId": "70371fa9-3926-4615-e376-d5e8429a061f"
      },
      "outputs": [
        {
          "output_type": "stream",
          "name": "stdout",
          "text": [
            "Requirement already satisfied: pyspark in /usr/local/lib/python3.12/dist-packages (3.5.1)\n",
            "Requirement already satisfied: kagglehub in /usr/local/lib/python3.12/dist-packages (0.3.13)\n",
            "Requirement already satisfied: py4j==0.10.9.7 in /usr/local/lib/python3.12/dist-packages (from pyspark) (0.10.9.7)\n",
            "Requirement already satisfied: packaging in /usr/local/lib/python3.12/dist-packages (from kagglehub) (25.0)\n",
            "Requirement already satisfied: pyyaml in /usr/local/lib/python3.12/dist-packages (from kagglehub) (6.0.3)\n",
            "Requirement already satisfied: requests in /usr/local/lib/python3.12/dist-packages (from kagglehub) (2.32.4)\n",
            "Requirement already satisfied: tqdm in /usr/local/lib/python3.12/dist-packages (from kagglehub) (4.67.1)\n",
            "Requirement already satisfied: charset_normalizer<4,>=2 in /usr/local/lib/python3.12/dist-packages (from requests->kagglehub) (3.4.3)\n",
            "Requirement already satisfied: idna<4,>=2.5 in /usr/local/lib/python3.12/dist-packages (from requests->kagglehub) (3.10)\n",
            "Requirement already satisfied: urllib3<3,>=1.21.1 in /usr/local/lib/python3.12/dist-packages (from requests->kagglehub) (2.5.0)\n",
            "Requirement already satisfied: certifi>=2017.4.17 in /usr/local/lib/python3.12/dist-packages (from requests->kagglehub) (2025.10.5)\n"
          ]
        }
      ],
      "source": [
        "!pip install pyspark kagglehub"
      ]
    },
    {
      "cell_type": "code",
      "source": [
        "import kagglehub\n",
        "\n",
        "\n",
        "path = kagglehub.dataset_download(\"shwetabh123/mall-customers\")\n",
        "\n",
        "print(\"Path to dataset files:\", path)\n"
      ],
      "metadata": {
        "colab": {
          "base_uri": "https://localhost:8080/"
        },
        "id": "p3OPoO0yloUf",
        "outputId": "c5c06066-1d37-4bcd-be49-dda542dd7ba7"
      },
      "execution_count": null,
      "outputs": [
        {
          "output_type": "stream",
          "name": "stdout",
          "text": [
            "Using Colab cache for faster access to the 'mall-customers' dataset.\n",
            "Path to dataset files: /kaggle/input/mall-customers\n"
          ]
        }
      ]
    },
    {
      "cell_type": "code",
      "source": [
        "spark = SparkSession.builder \\\n",
        "    .appName(\"DataPreprocessingChallenge\") \\\n",
        "    .getOrCreate()\n",
        "\n",
        "print(\"✅ Spark session created successfully!\")\n"
      ],
      "metadata": {
        "colab": {
          "base_uri": "https://localhost:8080/"
        },
        "id": "Jkr4A2RGlsu6",
        "outputId": "2b9f1c1a-d55d-4267-cf53-24be780601d3"
      },
      "execution_count": null,
      "outputs": [
        {
          "output_type": "stream",
          "name": "stdout",
          "text": [
            "✅ Spark session created successfully!\n"
          ]
        }
      ]
    },
    {
      "cell_type": "code",
      "source": [
        "file_path = f\"{path}/Mall_Customers.csv\"\n",
        "\n",
        "\n",
        "data = spark.read.csv(file_path, header=True, inferSchema=True)\n",
        "\n",
        "print(\"✅ Dataset loaded successfully.\")\n",
        "data.printSchema()\n",
        "data.show(5)"
      ],
      "metadata": {
        "colab": {
          "base_uri": "https://localhost:8080/"
        },
        "id": "fxryCD-_nPYi",
        "outputId": "fe253640-2820-456c-94d7-46e451929cdd"
      },
      "execution_count": null,
      "outputs": [
        {
          "output_type": "stream",
          "name": "stdout",
          "text": [
            "✅ Dataset loaded successfully.\n",
            "root\n",
            " |-- CustomerID: integer (nullable = true)\n",
            " |-- Genre: string (nullable = true)\n",
            " |-- Age: integer (nullable = true)\n",
            " |-- Annual Income (k$): integer (nullable = true)\n",
            " |-- Spending Score (1-100): integer (nullable = true)\n",
            "\n",
            "+----------+------+---+------------------+----------------------+\n",
            "|CustomerID| Genre|Age|Annual Income (k$)|Spending Score (1-100)|\n",
            "+----------+------+---+------------------+----------------------+\n",
            "|         1|  Male| 19|                15|                    39|\n",
            "|         2|  Male| 21|                15|                    81|\n",
            "|         3|Female| 20|                16|                     6|\n",
            "|         4|Female| 23|                16|                    77|\n",
            "|         5|Female| 31|                17|                    40|\n",
            "+----------+------+---+------------------+----------------------+\n",
            "only showing top 5 rows\n",
            "\n"
          ]
        }
      ]
    },
    {
      "cell_type": "code",
      "source": [
        "\n",
        "missing_counts = data.select([count(when(col(c).isNull() | isnan(c), c)).alias(c) for c in data.columns])\n",
        "print(\"🔍 Missing value count per column:\")\n",
        "missing_counts.show()\n",
        "\n",
        "\n",
        "numeric_cols = [c for c, t in data.dtypes if t in ['double', 'int']]\n",
        "for column in numeric_cols:\n",
        "    mean_value = data.select(mean(col(column))).collect()[0][0]\n",
        "    data = data.fillna({column: mean_value})\n",
        "\n",
        "\n",
        "categorical_cols = [c for c, t in data.dtypes if t == 'string']\n",
        "for column in categorical_cols:\n",
        "    data = data.fillna({column: 'Unknown'})\n",
        "\n",
        "print(\"✅ Missing values handled.\")"
      ],
      "metadata": {
        "colab": {
          "base_uri": "https://localhost:8080/"
        },
        "id": "yTxDOx5inwSy",
        "outputId": "552dde6a-3f6e-41ec-a32b-7db8bbc9582c"
      },
      "execution_count": null,
      "outputs": [
        {
          "output_type": "stream",
          "name": "stdout",
          "text": [
            "🔍 Missing value count per column:\n",
            "+----------+-----+---+------------------+----------------------+\n",
            "|CustomerID|Genre|Age|Annual Income (k$)|Spending Score (1-100)|\n",
            "+----------+-----+---+------------------+----------------------+\n",
            "|         0|    0|  0|                 0|                     0|\n",
            "+----------+-----+---+------------------+----------------------+\n",
            "\n",
            "✅ Missing values handled.\n"
          ]
        }
      ]
    },
    {
      "cell_type": "code",
      "source": [
        "for column in numeric_cols:\n",
        "    data = data.withColumn(column, col(column).cast(\"double\"))\n",
        "\n",
        "data.printSchema()\n",
        "print(\"✅ Data types standardized.\")\n"
      ],
      "metadata": {
        "colab": {
          "base_uri": "https://localhost:8080/"
        },
        "id": "AMvIVa5bn2AT",
        "outputId": "a827271f-eb6b-4256-c465-b44f75ab0995"
      },
      "execution_count": null,
      "outputs": [
        {
          "output_type": "stream",
          "name": "stdout",
          "text": [
            "root\n",
            " |-- CustomerID: double (nullable = true)\n",
            " |-- Genre: string (nullable = false)\n",
            " |-- Age: double (nullable = true)\n",
            " |-- Annual Income (k$): double (nullable = true)\n",
            " |-- Spending Score (1-100): double (nullable = true)\n",
            "\n",
            "✅ Data types standardized.\n"
          ]
        }
      ]
    },
    {
      "cell_type": "code",
      "source": [
        "before = data.count()\n",
        "data = data.dropDuplicates()\n",
        "after = data.count()\n",
        "\n",
        "print(f\"🧹 Removed {before - after} duplicate rows.\")\n"
      ],
      "metadata": {
        "colab": {
          "base_uri": "https://localhost:8080/"
        },
        "id": "wsGd2Smsn416",
        "outputId": "8ccc2326-5f2f-4a91-8802-4db4122d6b98"
      },
      "execution_count": null,
      "outputs": [
        {
          "output_type": "stream",
          "name": "stdout",
          "text": [
            "🧹 Removed 0 duplicate rows.\n"
          ]
        }
      ]
    },
    {
      "cell_type": "code",
      "source": [
        "from pyspark.ml.feature import StringIndexer, VectorAssembler, StandardScaler\n",
        "\n",
        "\n",
        "string_cols = [f.name for f in data.schema.fields if f.dataType.simpleString() == 'string']\n",
        "print(\"🧩 String columns:\", string_cols)\n",
        "\n",
        "\n",
        "for col in string_cols:\n",
        "    indexer = StringIndexer(inputCol=col, outputCol=f\"{col}_indexed\")\n",
        "    data = indexer.fit(data).transform(data)\n",
        "\n",
        "\n",
        "numeric_cols = [f.name for f in data.schema.fields if f.dataType.simpleString() != 'string']\n",
        "numeric_cols = [c for c in numeric_cols if c not in ['Time', 'Class']]\n",
        "\n",
        "print(\"🔢 Numeric columns for features:\", numeric_cols)\n",
        "\n",
        "\n",
        "assembler = VectorAssembler(inputCols=numeric_cols, outputCol=\"features\")\n",
        "assembled = assembler.transform(data)\n",
        "\n",
        "\n",
        "scaler = StandardScaler(inputCol=\"features\", outputCol=\"scaled_features\", withMean=True, withStd=True)\n",
        "scaler_model = scaler.fit(assembled)\n",
        "scaled_data = scaler_model.transform(assembled)\n",
        "\n",
        "print(\"✅ Data normalization completed successfully.\")\n",
        "scaled_data.select(\"scaled_features\").show(5, truncate=False)\n"
      ],
      "metadata": {
        "colab": {
          "base_uri": "https://localhost:8080/"
        },
        "id": "5-OCrXfsn7hJ",
        "outputId": "ddcafcb1-56d5-44ec-e446-46c86a302ec9"
      },
      "execution_count": null,
      "outputs": [
        {
          "output_type": "stream",
          "name": "stdout",
          "text": [
            "🧩 String columns: ['Genre']\n",
            "🔢 Numeric columns for features: ['CustomerID', 'Age', 'Annual Income (k$)', 'Spending Score (1-100)', 'Genre_indexed']\n",
            "✅ Data normalization completed successfully.\n",
            "+-------------------------------------------------------------------------------------------------------+\n",
            "|scaled_features                                                                                        |\n",
            "+-------------------------------------------------------------------------------------------------------+\n",
            "|[-0.12958026383720403,0.6550214902764239,-0.021321376171336143,-0.04646926222575693,1.1253282349446478]|\n",
            "|[-1.1662223745348363,1.012956730864634,-1.049316298717896,-1.7890665956916274,1.1253282349446478]      |\n",
            "|[-1.0971129004883273,0.22549920157057177,-1.011242412697653,-1.2856495882459316,-0.8841864703136518]   |\n",
            "|[-0.6306239506743929,1.084543778982276,-0.5162818944344946,0.34077458965554763,-0.8841864703136518]    |\n",
            "|[-0.8033976357906649,1.4424790195704862,-0.6685774385154664,0.37949897484367806,1.1253282349446478]    |\n",
            "+-------------------------------------------------------------------------------------------------------+\n",
            "only showing top 5 rows\n",
            "\n"
          ]
        }
      ]
    },
    {
      "cell_type": "code",
      "source": [
        "\n",
        "clean_data = scaled_data.drop(\"features\", \"scaled_features\")\n",
        "\n",
        "\n",
        "output_path = \"/content/cleaned_creditcard_data.csv\"\n",
        "\n",
        "\n",
        "clean_data.write.csv(output_path, header=True, mode=\"overwrite\")\n",
        "\n",
        "print(f\"✅ Cleaned dataset saved successfully at: {output_path}\")\n"
      ],
      "metadata": {
        "colab": {
          "base_uri": "https://localhost:8080/"
        },
        "id": "M8RvyZnpoQDu",
        "outputId": "47bcc582-f35f-42c4-cd59-5113c1b96e3a"
      },
      "execution_count": null,
      "outputs": [
        {
          "output_type": "stream",
          "name": "stdout",
          "text": [
            "✅ Cleaned dataset saved successfully at: /content/cleaned_creditcard_data.csv\n"
          ]
        }
      ]
    },
    {
      "cell_type": "code",
      "source": [
        "print(\"📊 Data Preprocessing Summary\")\n",
        "print(\"- Missing values handled (numeric: mean, categorical: 'Unknown')\")\n",
        "print(\"- Data types standardized to double\")\n",
        "print(\"- Duplicates removed\")\n",
        "print(\"- Features normalized using StandardScaler\")\n",
        "print(\"- Engineered features: Transaction_Hour, Amount_Category\")\n",
        "print(\"✅ Dataset ready for downstream analytics or ML tasks.\")\n"
      ],
      "metadata": {
        "colab": {
          "base_uri": "https://localhost:8080/"
        },
        "id": "cCSVwKvOoTDX",
        "outputId": "adfe28a7-d7e0-4853-dcc4-aaf0ca32d464"
      },
      "execution_count": null,
      "outputs": [
        {
          "output_type": "stream",
          "name": "stdout",
          "text": [
            "📊 Data Preprocessing Summary\n",
            "- Missing values handled (numeric: mean, categorical: 'Unknown')\n",
            "- Data types standardized to double\n",
            "- Duplicates removed\n",
            "- Features normalized using StandardScaler\n",
            "- Engineered features: Transaction_Hour, Amount_Category\n",
            "✅ Dataset ready for downstream analytics or ML tasks.\n"
          ]
        }
      ]
    }
  ]
}